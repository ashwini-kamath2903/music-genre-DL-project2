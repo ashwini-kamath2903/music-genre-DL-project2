{
  "metadata": {
    "kernelspec": {
      "language": "python",
      "display_name": "Python 3",
      "name": "python3"
    },
    "language_info": {
      "name": "python",
      "version": "3.10.14",
      "mimetype": "text/x-python",
      "codemirror_mode": {
        "name": "ipython",
        "version": 3
      },
      "pygments_lexer": "ipython3",
      "nbconvert_exporter": "python",
      "file_extension": ".py"
    },
    "kaggle": {
      "accelerator": "none",
      "dataSources": [],
      "dockerImageVersionId": 30762,
      "isInternetEnabled": true,
      "language": "python",
      "sourceType": "notebook",
      "isGpuEnabled": false
    },
    "colab": {
      "provenance": []
    }
  },
  "nbformat_minor": 0,
  "nbformat": 4,
  "cells": [
    {
      "cell_type": "code",
      "source": [
        "import os\n",
        "import librosa\n",
        "import pickle\n",
        "import numpy as np\n",
        "import tensorflow as tf\n",
        "from glob import glob\n",
        "from tensorflow.keras.callbacks import ReduceLROnPlateau, ModelCheckpoint, EarlyStopping\n",
        "from tensorflow.keras.utils import to_categorical\n",
        "from tensorflow.keras import regularizers\n",
        "from tensorflow.keras.layers import GlobalAveragePooling1D, Conv1D, Lambda, MaxPooling1D, Activation, Dense, BatchNormalization\n",
        "from tensorflow.keras.models import Sequential\n",
        "from tensorflow.keras.metrics import Precision, Recall\n",
        "import tensorflow.keras.backend as K\n",
        "from concurrent.futures import ThreadPoolExecutor\n",
        "import multiprocessing"
      ],
      "metadata": {
        "_uuid": "8f2839f25d086af736a60e9eeb907d3b93b6e0e5",
        "_cell_guid": "b1076dfc-b9ad-4769-8c92-a6c4dae69d19",
        "execution": {
          "iopub.status.busy": "2024-08-27T11:46:09.640756Z",
          "iopub.execute_input": "2024-08-27T11:46:09.641173Z",
          "iopub.status.idle": "2024-08-27T11:46:25.610939Z",
          "shell.execute_reply.started": "2024-08-27T11:46:09.641125Z",
          "shell.execute_reply": "2024-08-27T11:46:25.609725Z"
        },
        "trusted": true,
        "id": "zQSnKnd1E0LC"
      },
      "execution_count": null,
      "outputs": []
    },
    {
      "cell_type": "code",
      "source": [
        "# Creating directories in Kaggle\n",
        "!mkdir -p /kaggle/working/audio\n",
        "!mkdir -p /kaggle/working/output"
      ],
      "metadata": {
        "execution": {
          "iopub.status.busy": "2024-08-27T11:46:25.613048Z",
          "iopub.execute_input": "2024-08-27T11:46:25.613756Z",
          "iopub.status.idle": "2024-08-27T11:46:27.970097Z",
          "shell.execute_reply.started": "2024-08-27T11:46:25.613711Z",
          "shell.execute_reply": "2024-08-27T11:46:27.968601Z"
        },
        "trusted": true,
        "id": "IJTpvh90E0LF"
      },
      "execution_count": null,
      "outputs": []
    },
    {
      "cell_type": "code",
      "source": [
        "# Downloading the dataset from Dropbox\n",
        "!curl -L https://www.dropbox.com/s/4jw31k5mlzcmgis/genres.tar.gz?dl=1 -o /kaggle/working/genres.tar.gz"
      ],
      "metadata": {
        "execution": {
          "iopub.status.busy": "2024-08-27T11:46:27.972010Z",
          "iopub.execute_input": "2024-08-27T11:46:27.972477Z",
          "iopub.status.idle": "2024-08-27T11:46:40.444436Z",
          "shell.execute_reply.started": "2024-08-27T11:46:27.972414Z",
          "shell.execute_reply": "2024-08-27T11:46:40.442781Z"
        },
        "trusted": true,
        "id": "WSuMXU-VE0LG"
      },
      "execution_count": null,
      "outputs": []
    },
    {
      "cell_type": "code",
      "source": [
        "# Extracting the dataset\n",
        "!tar -xvzf /kaggle/working/genres.tar.gz -C /kaggle/working/audio\n",
        "!ls /kaggle/working/audio/genres"
      ],
      "metadata": {
        "execution": {
          "iopub.status.busy": "2024-08-27T11:46:40.449123Z",
          "iopub.execute_input": "2024-08-27T11:46:40.449650Z",
          "iopub.status.idle": "2024-08-27T11:46:58.384136Z",
          "shell.execute_reply.started": "2024-08-27T11:46:40.449588Z",
          "shell.execute_reply": "2024-08-27T11:46:58.382417Z"
        },
        "trusted": true,
        "id": "kZu8-jhrE0LH"
      },
      "execution_count": null,
      "outputs": []
    },
    {
      "cell_type": "code",
      "source": [
        "# Defining paths and constants\n",
        "\n",
        "DATA_AUDIO_DIR = '/kaggle/working/audio/genres'\n",
        "TARGET_SR = 8000\n",
        "OUTPUT_DIR_TRAIN = '/kaggle/working/output/train'\n",
        "OUTPUT_DIR_TEST = '/kaggle/working/output/test'\n",
        "AUDIO_LENGTH = 10000\n",
        "NUM_CLASSES = 10\n",
        "BATCH_SIZE = 128\n",
        "\n",
        "os.makedirs(OUTPUT_DIR_TRAIN, exist_ok=True)\n",
        "os.makedirs(OUTPUT_DIR_TEST, exist_ok=True)"
      ],
      "metadata": {
        "execution": {
          "iopub.status.busy": "2024-08-27T11:46:58.386099Z",
          "iopub.execute_input": "2024-08-27T11:46:58.386623Z",
          "iopub.status.idle": "2024-08-27T11:46:58.395543Z",
          "shell.execute_reply.started": "2024-08-27T11:46:58.386539Z",
          "shell.execute_reply": "2024-08-27T11:46:58.394133Z"
        },
        "trusted": true,
        "id": "yg-v4Pe2E0LH"
      },
      "execution_count": null,
      "outputs": []
    },
    {
      "cell_type": "code",
      "source": [
        "# Definition of data handling functions\n",
        "\n",
        "def extract_class_id(AU_filename):\n",
        "    genres = {\n",
        "        'blues': 1,\n",
        "        'classical': 2,\n",
        "        'country': 3,\n",
        "        'disco': 4,\n",
        "        'hiphop': 5,\n",
        "        'jazz': 6,\n",
        "        'metal': 7,\n",
        "        'pop': 8,\n",
        "        'reggae': 9,\n",
        "        'rock': 10\n",
        "    }\n",
        "\n",
        "    for genre, class_id in genres.items():\n",
        "        if genre in AU_filename:\n",
        "            return class_id\n",
        "        return None\n",
        "\n",
        "def read_audio(filename):\n",
        "    audio, _ = librosa.load(filename, sr=TARGET_SR, mono=True)\n",
        "    audio = (audio - np.mean(audio)) / np.std(audio)\n",
        "    if len(audio) < AUDIO_LENGTH:\n",
        "        audio = np.pad(audio, (0, AUDIO_LENGTH - len(audio)), 'constant')\n",
        "    return audio[:AUDIO_LENGTH].reshape(-1, 1)\n",
        "\n",
        "def process_audio_file(i, filename):\n",
        "    class_id = extract_class_id(filename)\n",
        "    audio_buf = read_audio(filename)\n",
        "    output_folder = OUTPUT_DIR_TRAIN if i % 10 != 0 else OUTPUT_DIR_TEST\n",
        "    output_filename = os.path.join(output_folder, f'{i}.pkl')\n",
        "    with open(output_filename, 'wb') as f:\n",
        "        pickle.dump({'class_id': class_id, 'audio': audio_buf, 'sr': TARGET_SR}, f)\n",
        "\n",
        "def convert_data_parallel():\n",
        "    filenames = list(glob(os.path.join(DATA_AUDIO_DIR, '**/*.au'), recursive=True))\n",
        "    with ThreadPoolExecutor(max_workers=multiprocessing.cpu_count()) as executor:\n",
        "        executor.map(process_audio_file, range(len(filenames)), filenames)\n",
        "\n",
        "convert_data_parallel()"
      ],
      "metadata": {
        "execution": {
          "iopub.status.busy": "2024-08-27T11:48:54.936251Z",
          "iopub.execute_input": "2024-08-27T11:48:54.937689Z",
          "iopub.status.idle": "2024-08-27T11:49:31.976969Z",
          "shell.execute_reply.started": "2024-08-27T11:48:54.937618Z",
          "shell.execute_reply": "2024-08-27T11:49:31.975525Z"
        },
        "trusted": true,
        "id": "KxHaBVkBE0LI"
      },
      "execution_count": null,
      "outputs": []
    },
    {
      "cell_type": "code",
      "source": [
        "# Defining and Compiling Model\n",
        "\n",
        "def model_10(num_classes=10):\n",
        "    m = Sequential()\n",
        "    m.add(Conv1D(128,\n",
        "                 input_shape=[AUDIO_LENGTH, 1],\n",
        "                 kernel_size=80,\n",
        "                 strides=4,\n",
        "                 padding='same',\n",
        "                 kernel_initializer='glorot_uniform',\n",
        "                 kernel_regularizer=regularizers.l2(0.0001)))\n",
        "    m.add(BatchNormalization())\n",
        "    m.add(Activation('relu'))\n",
        "    m.add(MaxPooling1D(pool_size=4, strides=None))\n",
        "    m.add(Conv1D(128,\n",
        "                 kernel_size=3,\n",
        "                 strides=1,\n",
        "                 padding='same',\n",
        "                 kernel_initializer='glorot_uniform',\n",
        "                 kernel_regularizer=regularizers.l2(0.0001)))\n",
        "    m.add(BatchNormalization())\n",
        "    m.add(Activation('relu'))\n",
        "    m.add(MaxPooling1D(pool_size=4, strides=None))\n",
        "    m.add(Conv1D(256,\n",
        "                 kernel_size=3,\n",
        "                 strides=1,\n",
        "                 padding='same',\n",
        "                 kernel_initializer='glorot_uniform',\n",
        "                 kernel_regularizer=regularizers.l2(0.0001)))\n",
        "    m.add(BatchNormalization())\n",
        "    m.add(Activation('relu'))\n",
        "    m.add(MaxPooling1D(pool_size=4, strides=None))\n",
        "    m.add(Conv1D(512,\n",
        "                 kernel_size=3,\n",
        "                 strides=1,\n",
        "                 padding='same',\n",
        "                 kernel_initializer='glorot_uniform',\n",
        "                 kernel_regularizer=regularizers.l2(0.0001)))\n",
        "    m.add(BatchNormalization())\n",
        "    m.add(Activation('relu'))\n",
        "    m.add(MaxPooling1D(pool_size=4, strides=None))\n",
        "    m.add(Lambda(lambda x: K.mean(x, axis=1)))\n",
        "    m.add(Dense(num_classes, activation='softmax'))\n",
        "    return m\n",
        "\n",
        "num_classes = 10\n",
        "model = model_10(num_classes=num_classes)\n",
        "\n",
        "if model is None:\n",
        "    exit('Something went wrong!!')\n",
        "\n",
        "model.compile(optimizer='adam',\n",
        "              loss='categorical_crossentropy',\n",
        "              metrics=['accuracy', Precision(name='precision'), Recall(name='recall'), f1_score])\n",
        "print(model.summary())\n",
        "\n",
        "def f1_score(precision, recall):\n",
        "    return 2 * (precision * recall) / (precision + recall + K.epsilon())"
      ],
      "metadata": {
        "execution": {
          "iopub.status.busy": "2024-08-27T11:49:36.756494Z",
          "iopub.execute_input": "2024-08-27T11:49:36.757284Z",
          "iopub.status.idle": "2024-08-27T11:49:37.591967Z",
          "shell.execute_reply.started": "2024-08-27T11:49:36.757238Z",
          "shell.execute_reply": "2024-08-27T11:49:37.590698Z"
        },
        "trusted": true,
        "id": "_Ii2hz-BE0LI"
      },
      "execution_count": null,
      "outputs": []
    },
    {
      "cell_type": "code",
      "source": [
        "# Load Training and Testing Data\n",
        "\n",
        "def get_data(file_list):\n",
        "    x, y = [], []\n",
        "    for filename in file_list:\n",
        "        with open(filename, 'rb') as f:\n",
        "            audio_element = pickle.load(f)\n",
        "            x.append(audio_element['audio'])\n",
        "            y.append(int(audio_element['class_id']))\n",
        "    return np.array(x), np.array(y)\n",
        "\n",
        "train_files = glob(os.path.join(OUTPUT_DIR_TRAIN, '**/*.pkl'))\n",
        "x_tr, y_tr = get_data(train_files)\n",
        "y_tr = to_categorical(y_tr, num_classes=num_classes)\n",
        "\n",
        "test_files = glob(os.path.join(OUTPUT_DIR_TEST, '**/*.pkl'))\n",
        "x_te, y_te = get_data(test_files)\n",
        "y_te = to_categorical(y_te, num_classes=num_classes)"
      ],
      "metadata": {
        "execution": {
          "iopub.status.busy": "2024-08-27T11:49:53.112377Z",
          "iopub.execute_input": "2024-08-27T11:49:53.113260Z",
          "iopub.status.idle": "2024-08-27T11:49:53.125005Z",
          "shell.execute_reply.started": "2024-08-27T11:49:53.113207Z",
          "shell.execute_reply": "2024-08-27T11:49:53.123731Z"
        },
        "trusted": true,
        "id": "VVllnBd7E0LJ"
      },
      "execution_count": null,
      "outputs": []
    },
    {
      "cell_type": "code",
      "source": [
        "print('X Train shape: ', x_tr.shape)\n",
        "print('Y Train shape: ', y_tr.shape)\n",
        "print('X Test shape: ', x_te.shape)\n",
        "print('Y Test shape: ', y_te.shape)"
      ],
      "metadata": {
        "execution": {
          "iopub.status.busy": "2024-08-27T11:49:56.930221Z",
          "iopub.execute_input": "2024-08-27T11:49:56.931102Z",
          "iopub.status.idle": "2024-08-27T11:49:56.938043Z",
          "shell.execute_reply.started": "2024-08-27T11:49:56.931053Z",
          "shell.execute_reply": "2024-08-27T11:49:56.936653Z"
        },
        "trusted": true,
        "id": "dUYsnuULE0LJ"
      },
      "execution_count": null,
      "outputs": []
    },
    {
      "cell_type": "code",
      "source": [
        "# Training Model\n",
        "\n",
        "reduce_lr = ReduceLROnPlateau(monitor='acc', factor=0.5, patience=10, min_lr=0.0001, verbose=1)\n",
        "batch_size = 128\n",
        "\n",
        "model.fit(x=x_tr,\n",
        "          y=y_tr,\n",
        "          batch_size=batch_size,\n",
        "          epochs=50,\n",
        "          verbose=1,\n",
        "          shuffle=True,\n",
        "          validation_data=(x_te, y_te),\n",
        "          callbacks=[reduce_lr])"
      ],
      "metadata": {
        "execution": {
          "iopub.status.busy": "2024-08-27T11:49:59.247891Z",
          "iopub.execute_input": "2024-08-27T11:49:59.248400Z",
          "iopub.status.idle": "2024-08-27T11:49:59.258112Z",
          "shell.execute_reply.started": "2024-08-27T11:49:59.248353Z",
          "shell.execute_reply": "2024-08-27T11:49:59.256391Z"
        },
        "trusted": true,
        "id": "AjTqQ8GCE0LJ"
      },
      "execution_count": null,
      "outputs": []
    },
    {
      "cell_type": "code",
      "source": [
        "# Evaluate the model\n",
        "loss, accuracy, precision, recall, f1 = model.evaluate(x_te, y_te, verbose=0)\n",
        "\n",
        "print(f\"Test Loss: {loss:.4f}\")\n",
        "print(f\"Test Accuracy: {accuracy:.4f}\")\n",
        "print(f\"Test Precision: {precision:.4f}\")\n",
        "print(f\"Test Recall: {recall:.4f}\")\n",
        "print(f\"Test F1-score: {f1:.4f}\")"
      ],
      "metadata": {
        "id": "hC2EL32aHP48"
      },
      "execution_count": null,
      "outputs": []
    }
  ]
}